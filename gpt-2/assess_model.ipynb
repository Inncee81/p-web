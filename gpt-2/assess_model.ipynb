{
  "nbformat": 4,
  "nbformat_minor": 0,
  "metadata": {
    "colab": {
      "name": "p-web simple-gpt.ipynb",
      "provenance": [],
      "collapsed_sections": [
        "b-kmzJmuiZ2F"
      ],
      "toc_visible": true
    },
    "kernelspec": {
      "name": "python3",
      "display_name": "Python 3"
    },
    "language_info": {
      "name": "python"
    }
  },
  "cells": [
    {
      "cell_type": "markdown",
      "metadata": {
        "id": "OVcnJ4bziBtz"
      },
      "source": [
        "resource: https://minimaxir.com/2019/09/howto-gpt2/\n",
        "\n",
        "\n"
      ]
    },
    {
      "cell_type": "markdown",
      "metadata": {
        "id": "CPsyOjTxL6zP"
      },
      "source": [
        "This file is ran on Google Colab, and uses the file accessing features that is not relevant if running on device."
      ]
    },
    {
      "cell_type": "markdown",
      "metadata": {
        "id": "A9xPkM0MjWFh"
      },
      "source": [
        "## Basic"
      ]
    },
    {
      "cell_type": "code",
      "metadata": {
        "id": "vJ2uTSNvh_SR",
        "colab": {
          "base_uri": "https://localhost:8080/"
        },
        "outputId": "d0912200-5330-4903-c6fb-feb088c1e519"
      },
      "source": [
        "%tensorflow_version 1.x\n",
        "!pip install -q gpt-2-simple\n",
        "import gpt_2_simple as gpt2\n",
        "from datetime import datetime\n",
        "from google.colab import files\n",
        "\n",
        "from gpt_2_simple.src import model, sample, encoder, memory_saving_gradients\n",
        "import os\n",
        "import json\n",
        "import numpy as np\n",
        "import tensorflow as tf"
      ],
      "execution_count": 2,
      "outputs": [
        {
          "output_type": "stream",
          "text": [
            "TensorFlow 1.x selected.\n",
            "WARNING:tensorflow:\n",
            "The TensorFlow contrib module will not be included in TensorFlow 2.0.\n",
            "For more information, please see:\n",
            "  * https://github.com/tensorflow/community/blob/master/rfcs/20180907-contrib-sunset.md\n",
            "  * https://github.com/tensorflow/addons\n",
            "  * https://github.com/tensorflow/io (for I/O related ops)\n",
            "If you depend on functionality not listed there, please file an issue.\n",
            "\n"
          ],
          "name": "stdout"
        }
      ]
    },
    {
      "cell_type": "code",
      "metadata": {
        "colab": {
          "base_uri": "https://localhost:8080/"
        },
        "id": "YnbsCYCwiNrN",
        "outputId": "dfb05123-2f0e-4d0d-e29d-ae09e2b8955a"
      },
      "source": [
        "gpt2.mount_gdrive()"
      ],
      "execution_count": 3,
      "outputs": [
        {
          "output_type": "stream",
          "text": [
            "Drive already mounted at /content/drive; to attempt to forcibly remount, call drive.mount(\"/content/drive\", force_remount=True).\n"
          ],
          "name": "stdout"
        }
      ]
    },
    {
      "cell_type": "markdown",
      "metadata": {
        "id": "b-kmzJmuiZ2F"
      },
      "source": [
        "## To Train"
      ]
    },
    {
      "cell_type": "code",
      "metadata": {
        "id": "PzXh6jU3iMAl"
      },
      "source": [
        "# gpt2.download_gpt2(model_name=\"124M\")"
      ],
      "execution_count": 4,
      "outputs": []
    },
    {
      "cell_type": "code",
      "metadata": {
        "id": "1PVzFFTOieKh",
        "colab": {
          "base_uri": "https://localhost:8080/",
          "height": 1000
        },
        "outputId": "aa9e665c-1c62-4b0c-edd4-d67d53283f07"
      },
      "source": [
        "'''\n",
        "file_name = \"result.txt\"\n",
        "trained_run_name = \"run1\"\n",
        "'''"
      ],
      "execution_count": 5,
      "outputs": [
        {
          "output_type": "execute_result",
          "data": {
            "application/vnd.google.colaboratory.intrinsic+json": {
              "type": "string"
            },
            "text/plain": [
              "'\\nfile_name = \"result.txt\"\\ntrained_run_name = \"run1\"\\n'"
            ]
          },
          "metadata": {
            "tags": []
          },
          "execution_count": 5
        }
      ]
    },
    {
      "cell_type": "code",
      "metadata": {
        "id": "SUd49RY6igIe"
      },
      "source": [
        "# gpt2.copy_file_from_gdrive(file_name)"
      ],
      "execution_count": 6,
      "outputs": []
    },
    {
      "cell_type": "code",
      "metadata": {
        "colab": {
          "base_uri": "https://localhost:8080/",
          "height": 1000
        },
        "id": "qByr0n57iibP",
        "outputId": "f8f45a40-cb32-44f4-b33b-0945de9189de"
      },
      "source": [
        "'''\n",
        "sess = gpt2.start_tf_sess()\n",
        "\n",
        "gpt2.finetune(sess,\n",
        "              dataset=file_name,\n",
        "              model_name='124M',\n",
        "              steps=1000,\n",
        "              restore_from='fresh',\n",
        "              run_name=trained_run_name,\n",
        "              print_every=10,\n",
        "              sample_every=200,\n",
        "              save_every=500\n",
        "              )\n",
        "'''"
      ],
      "execution_count": 7,
      "outputs": [
        {
          "output_type": "execute_result",
          "data": {
            "application/vnd.google.colaboratory.intrinsic+json": {
              "type": "string"
            },
            "text/plain": [
              "\"\\nsess = gpt2.start_tf_sess()\\n\\ngpt2.finetune(sess,\\n              dataset=file_name,\\n              model_name='124M',\\n              steps=1000,\\n              restore_from='fresh',\\n              run_name=trained_run_name,\\n              print_every=10,\\n              sample_every=200,\\n              save_every=500\\n              )\\n\""
            ]
          },
          "metadata": {
            "tags": []
          },
          "execution_count": 7
        }
      ]
    },
    {
      "cell_type": "code",
      "metadata": {
        "id": "9N-9jhnWilOD"
      },
      "source": [
        "# gpt2.copy_checkpoint_to_gdrive(run_name=trained_run_name)"
      ],
      "execution_count": 8,
      "outputs": []
    },
    {
      "cell_type": "markdown",
      "metadata": {
        "id": "_1bbpgjKixWx"
      },
      "source": [
        "## Load Model"
      ]
    },
    {
      "cell_type": "markdown",
      "metadata": {
        "id": "OracnemVkX5V"
      },
      "source": [
        "If already have the model on google drive, can load it in with the following:"
      ]
    },
    {
      "cell_type": "code",
      "metadata": {
        "id": "f4BNvnp-i5C6"
      },
      "source": [
        "loaded_run_name='355_10mb'\n",
        "# loaded_run_name='124M'"
      ],
      "execution_count": 9,
      "outputs": []
    },
    {
      "cell_type": "code",
      "metadata": {
        "id": "aaCpaLshizcK"
      },
      "source": [
        "gpt2.copy_checkpoint_from_gdrive(run_name=loaded_run_name)"
      ],
      "execution_count": 10,
      "outputs": []
    },
    {
      "cell_type": "code",
      "metadata": {
        "colab": {
          "base_uri": "https://localhost:8080/"
        },
        "id": "35uVdHcMi3L9",
        "outputId": "a095c01b-5ed6-4e31-83dd-bec23db1abbe"
      },
      "source": [
        "sess = gpt2.start_tf_sess()\n",
        "gpt2.load_gpt2(sess, run_name=loaded_run_name)"
      ],
      "execution_count": 11,
      "outputs": [
        {
          "output_type": "stream",
          "text": [
            "Loading checkpoint checkpoint/355_10mb/model-1000\n",
            "INFO:tensorflow:Restoring parameters from checkpoint/355_10mb/model-1000\n"
          ],
          "name": "stdout"
        }
      ]
    },
    {
      "cell_type": "markdown",
      "metadata": {
        "id": "JYQkGjRTjSFg"
      },
      "source": [
        "## Run"
      ]
    },
    {
      "cell_type": "code",
      "metadata": {
        "colab": {
          "base_uri": "https://localhost:8080/",
          "height": 54
        },
        "id": "oyO-94mUjPrx",
        "outputId": "80002efb-6b1d-428a-fb84-c737de3b0995"
      },
      "source": [
        "'''\n",
        "gpt2.generate(sess,\n",
        "              length=100,\n",
        "              temperature=0.7,\n",
        "              nsamples=5,\n",
        "              batch_size=5,\n",
        "              run_name=loaded_run_name,\n",
        "              prefix='<html>'\n",
        "              )\n",
        "'''\n"
      ],
      "execution_count": 12,
      "outputs": [
        {
          "output_type": "execute_result",
          "data": {
            "application/vnd.google.colaboratory.intrinsic+json": {
              "type": "string"
            },
            "text/plain": [
              "\"\\ngpt2.generate(sess,\\n              length=100,\\n              temperature=0.7,\\n              nsamples=5,\\n              batch_size=5,\\n              run_name=loaded_run_name,\\n              prefix='<html>'\\n              )\\n\""
            ]
          },
          "metadata": {
            "tags": []
          },
          "execution_count": 12
        }
      ]
    },
    {
      "cell_type": "markdown",
      "metadata": {
        "id": "b0mtjPiDsc76"
      },
      "source": [
        "## Assess"
      ]
    },
    {
      "cell_type": "markdown",
      "metadata": {
        "id": "FMijAYk2xfzP"
      },
      "source": [
        "https://github.com/gpt2ent/gpt-2-simple/blob/652fdab80131ce83f8f1b6fd00f597dd48ae2e36/gpt_2_simple/gpt_2.py#L552\n"
      ]
    },
    {
      "cell_type": "code",
      "metadata": {
        "id": "WNUTMmZisA-W"
      },
      "source": [
        "\n",
        "def get_logits(sess,\n",
        "             run_name='run1',\n",
        "             checkpoint_dir='checkpoint',\n",
        "             model_name=None,\n",
        "             model_dir='models',\n",
        "             prefix=\"<|endoftext|>\",\n",
        "             all=False):\n",
        "    batch_size=1\n",
        "\n",
        "    if model_name:\n",
        "        checkpoint_path = os.path.join(model_dir, model_name)\n",
        "    else:\n",
        "        checkpoint_path = os.path.join(checkpoint_dir, run_name)\n",
        "\n",
        "    enc = encoder.get_encoder(checkpoint_path)\n",
        "    hparams = model.default_hparams()\n",
        "    with open(os.path.join(checkpoint_path, 'hparams.json')) as f:\n",
        "        hparams.override_from_dict(json.load(f))\n",
        "\n",
        "    if prefix:\n",
        "        context = tf.compat.v1.placeholder(tf.int32, [batch_size, None])\n",
        "        context_tokens = enc.encode(prefix)\n",
        "\n",
        "    def step(hparams, tokens, past=None):\n",
        "        lm_output = model.model(hparams=hparams, X=tokens,\n",
        "                                past=past, reuse=tf.compat.v1.AUTO_REUSE)\n",
        "\n",
        "        logits = lm_output['logits'][:, :, :hparams.n_vocab]\n",
        "        presents = lm_output['present']\n",
        "        presents.set_shape(model.past_shape(\n",
        "            hparams=hparams, batch_size=batch_size))\n",
        "        return {\n",
        "            'logits': logits,\n",
        "            'presents': presents,\n",
        "        }\n",
        "\n",
        "    output = step(hparams, context)\n",
        "\n",
        "    out = sess.run(output, feed_dict={\n",
        "                    context: batch_size * [context_tokens]\n",
        "                })\n",
        "\n",
        "    if all:\n",
        "        return out['logits'][0, :, :]  # all logits starting from the second token, n logits for n tokens\n",
        "    return out['logits'][0, -1, :]  # logits for next token\n"
      ],
      "execution_count": 13,
      "outputs": []
    },
    {
      "cell_type": "code",
      "metadata": {
        "id": "lm1Zkv9yxHQy"
      },
      "source": [
        "def get_perplexity(sess,\n",
        "               run_name='run1',\n",
        "               checkpoint_dir='checkpoint',\n",
        "               model_name=None,\n",
        "               model_dir='models',\n",
        "               prefix=\"<|endoftext|>\",\n",
        "               continuation=\"Hello\"):\n",
        "    \n",
        "    \"\"\"\n",
        "    Returns perplexity score for given continuation of a given prefix.\n",
        "    \n",
        "    Examples:\n",
        "    perplexity(sess, model_name=\"124M\", prefix=\"Hello, my name is\", continuation=\" James Smith, I am an engineer\")  # returns 17.3124\n",
        "    perplexity(sess, model_name=\"124M\", prefix=\"Hello, my name is\", continuation=\" very else whatever general cat meow.\")  # returns 5197.99\n",
        "    \"\"\"\n",
        "\n",
        "    batch_size=1\n",
        "\n",
        "    if model_name:\n",
        "        checkpoint_path = os.path.join(model_dir, model_name)\n",
        "    else:\n",
        "        checkpoint_path = os.path.join(checkpoint_dir, run_name)\n",
        "\n",
        "    enc = encoder.get_encoder(checkpoint_path)\n",
        "\n",
        "    context_tokens = enc.encode(prefix)\n",
        "\n",
        "    context_size = len(context_tokens)\n",
        "    continuation_tokens = enc.encode(continuation)\n",
        "\n",
        "    full_sentence = prefix+continuation\n",
        "\n",
        "    logits = get_logits(sess, run_name, checkpoint_dir, model_name, model_dir, full_sentence, all=True)\n",
        "\n",
        "    logits = logits[context_size-1:-1, :]  # only continuation logits\n",
        "    logitmeans = np.mean(logits, axis=1)\n",
        "    logits = logits - logitmeans[:, None]\n",
        "    explogits = np.exp(logits)\n",
        "    probabs = explogits / np.sum(explogits,axis=1)[:, None]\n",
        "    \n",
        "    probab_scores = np.nan_to_num([probabs[i, index] for i, index in enumerate(continuation_tokens)])\n",
        "    perplexity = 2 ** (-np.mean(np.log2(probab_scores)))\n",
        "    return perplexity\n"
      ],
      "execution_count": 14,
      "outputs": []
    },
    {
      "cell_type": "markdown",
      "metadata": {
        "id": "rFEeqIGGFX1P"
      },
      "source": [
        "## Run on Test Data"
      ]
    },
    {
      "cell_type": "code",
      "metadata": {
        "colab": {
          "base_uri": "https://localhost:8080/",
          "height": 71
        },
        "id": "yIodUatmp3r7",
        "outputId": "c0db18ac-0c4a-41a3-adb1-4f78d20fbab5"
      },
      "source": [
        "'''\n",
        "ans = get_perplexity(sess,\n",
        "               run_name=loaded_run_name,\n",
        "               checkpoint_dir='checkpoint',\n",
        "               model_name=None,\n",
        "               model_dir='models',\n",
        "               prefix=\"<html>\",\n",
        "               continuation=\" <body> </body> <html>\")\n",
        "'''"
      ],
      "execution_count": 15,
      "outputs": [
        {
          "output_type": "execute_result",
          "data": {
            "application/vnd.google.colaboratory.intrinsic+json": {
              "type": "string"
            },
            "text/plain": [
              "'\\nans = get_perplexity(sess,\\n               run_name=loaded_run_name,\\n               checkpoint_dir=\\'checkpoint\\',\\n               model_name=None,\\n               model_dir=\\'models\\',\\n               prefix=\"<html>\",\\n               continuation=\" <body> </body> <html>\")\\n'"
            ]
          },
          "metadata": {
            "tags": []
          },
          "execution_count": 15
        }
      ]
    },
    {
      "cell_type": "code",
      "metadata": {
        "colab": {
          "base_uri": "https://localhost:8080/"
        },
        "id": "bEOk2IwJj4wg",
        "outputId": "af9f5830-3717-4778-f9b3-a58d3edf0a85"
      },
      "source": [
        "from google.colab import files\n",
        "import os\n",
        "from google.colab import drive\n",
        "drive.mount('/content/drive')\n",
        "import math\n",
        "import datetime #for development"
      ],
      "execution_count": 16,
      "outputs": [
        {
          "output_type": "stream",
          "text": [
            "Drive already mounted at /content/drive; to attempt to forcibly remount, call drive.mount(\"/content/drive\", force_remount=True).\n"
          ],
          "name": "stdout"
        }
      ]
    },
    {
      "cell_type": "code",
      "metadata": {
        "id": "FlVUy29Aj-oC"
      },
      "source": [
        "def per_line_assess(fileName):\n",
        "  '''\n",
        "  assess the perplexity of each html line (excluding one word code line like <br/>)\n",
        "  uses count%10 to assess a range of lines (taking the first 20 will have more frequent overlap)\n",
        "  for one file there could be 1000 lines so take only a sample of it\n",
        "  '''\n",
        "  with open(fileName, 'r') as f:\n",
        "    target_src = f.read() \n",
        "    x = target_src.split('\\n')\n",
        "    ret_val = []\n",
        "    count = 0\n",
        "    for i in x:\n",
        "      i.strip()\n",
        "      listI = i.split()\n",
        "      if len(listI) > 1:\n",
        "        count += 1\n",
        "        if count%50 != 0:\n",
        "          continue\n",
        "        pref = ' '.join(listI[:math.ceil(len(listI)/2)])\n",
        "        continu = ' '.join(listI[math.ceil(len(listI)/2):])\n",
        "        perplexity = get_perplexity(sess,\n",
        "               run_name=loaded_run_name,\n",
        "               checkpoint_dir='checkpoint',\n",
        "               model_name=None,\n",
        "               model_dir='models',\n",
        "               prefix=pref,\n",
        "               continuation=continu)\n",
        "        ret_val.append([pref, continu, perplexity])\n",
        "    return ret_val\n",
        "      \n"
      ],
      "execution_count": 17,
      "outputs": []
    },
    {
      "cell_type": "code",
      "metadata": {
        "id": "wit2gXw20GZB"
      },
      "source": [
        "def per_file_assess(fileName):\n",
        "  '''\n",
        "  Measure perplexity of the whole html file. Add each token added ongoing prefix\n",
        "  Error when file too large (see below seciton on error)\n",
        "  '''\n",
        "  file_prefix = \"\"\n",
        "  ret_val = []\n",
        "  count = 0\n",
        "  with open(fileName, 'r') as f:\n",
        "    target_src = f.read() \n",
        "    x = target_src.split('\\n')\n",
        "    for i in x:\n",
        "      if count >= 100: # takes \n",
        "        break\n",
        "      i.strip()\n",
        "      listI = i.split()\n",
        "      if len(listI) > 1:\n",
        "        line_pref = ' '.join(listI[:math.ceil(len(listI)/2)])\n",
        "        file_prefix = file_prefix + ' ' + line_pref\n",
        "        continu = ' '.join(listI[math.ceil(len(listI)/2):])\n",
        "        perplexity = get_perplexity(sess,\n",
        "               run_name=loaded_run_name,\n",
        "               checkpoint_dir='checkpoint',\n",
        "               model_name=None,\n",
        "               model_dir='models',\n",
        "               prefix=file_prefix,\n",
        "               continuation=continu)\n",
        "        ret_val.append([file_prefix, continu, perplexity])\n",
        "        file_prefix = file_prefix + ' ' + continu \n",
        "        count+=1\n",
        "      else:\n",
        "        file_prefix = file_prefix + ' '.join(listI)\n",
        "\n",
        "    return ret_val\n"
      ],
      "execution_count": 18,
      "outputs": []
    },
    {
      "cell_type": "code",
      "metadata": {
        "id": "DaxeRycYj_tk",
        "colab": {
          "base_uri": "https://localhost:8080/"
        },
        "outputId": "0c519fb4-29de-40ee-b5f8-eae8dda50387"
      },
      "source": [
        "target_file = \"/content/drive/My Drive/P-Web/Testing_Files\"\n",
        "\n",
        "\n",
        "i = 0\n",
        "for file in os.scandir(target_file):\n",
        "  i += 1\n",
        "  if i >= 10: \n",
        "    break\n",
        "  # calculated_val = str(per_file_assess(os.path.join(target_file,file))) \n",
        "  calculated_val = str(per_line_assess(os.path.join(target_file,file)))\n",
        "  with open(f\"/content/drive/My Drive/P-Web/model_measure_355_{file}.txt\", 'w') as writefile:\n",
        "    writefile.write(calculated_val) \n",
        "  print(os.path.join(target_file,file))\n",
        "  print(datetime.datetime.utcnow().strftime(\"%a, %d %B %Y %H:%M:%S\"))\n",
        "\n",
        "\n",
        "\n"
      ],
      "execution_count": null,
      "outputs": [
        {
          "output_type": "stream",
          "text": [
            "/content/drive/My Drive/P-Web/Testing_Files/modified_1c-bitrix.txt\n",
            "/content/drive/My Drive/P-Web/Testing_Files/modified_115.txt\n",
            "/content/drive/My Drive/P-Web/Testing_Files/modified_21cn.txt\n",
            "/content/drive/My Drive/P-Web/Testing_Files/modified_2gis.txt\n",
            "/content/drive/My Drive/P-Web/Testing_Files/modified_7news.txt\n",
            "/content/drive/My Drive/P-Web/Testing_Files/modified_263.txt\n",
            "/content/drive/My Drive/P-Web/Testing_Files/modified_4shared.txt\n",
            "/content/drive/My Drive/P-Web/Testing_Files/modified_10fastfingers.txt\n",
            "/content/drive/My Drive/P-Web/Testing_Files/modified_6abc.txt\n",
            "/content/drive/My Drive/P-Web/Testing_Files/modified_500px.txt\n",
            "/content/drive/My Drive/P-Web/Testing_Files/modified_300.txt\n",
            "Fri, 07 May 2021 05:50:43\n"
          ],
          "name": "stdout"
        }
      ]
    },
    {
      "cell_type": "markdown",
      "metadata": {
        "id": "Af4lJlHRMjRx"
      },
      "source": [
        "## Error"
      ]
    },
    {
      "cell_type": "markdown",
      "metadata": {
        "id": "9qw7bWdaK3MQ"
      },
      "source": [
        "There is error when the prefix is too long; Eg. below used almost 1 file (in entierity) to test perplexity, but returned error"
      ]
    },
    {
      "cell_type": "code",
      "metadata": {
        "colab": {
          "base_uri": "https://localhost:8080/",
          "height": 71
        },
        "id": "9rgu7fteJ6Kr",
        "outputId": "37507540-6d9b-405c-a973-d68eebcc6994"
      },
      "source": [
        "\n",
        "# testPref = '''<html lang=\"\"> <head> <meta charset=\"\"/> <meta content=\"\" name=\"\"/> <link href=\"\" rel=\"profile\"/> <link href=\"\" media=\"\" rel=\"stylesheet\"/> <title> </title> <meta content=\"\" name=\"\"/> <meta content=\"\" name=\"\"/> <link href=\"\" rel=\"canonical\"/> <meta content=\"\" property=\"\"/> <meta content=\"\" property=\"\"/> <meta content=\"\" property=\"\"/> <meta content=\"\" property=\"\"/> <meta content=\"\" property=\"\"/> <meta content=\"\" property=\"\"/> <meta content=\"\" property=\"\"/> <meta content=\"\" property=\"\"/> <meta content=\"\" property=\"\"/> <meta content=\"\" property=\"\"/> <meta content=\"\" name=\"\"/> <meta content=\"\" name=\"\"/> <meta content=\"\" name=\"\"/> <meta content=\"\" name=\"\"/> <script class=\"\" type=\"application/ld+json\"> </script> <link href=\"\" rel=\"dns-prefetch\"/> <link href=\"\" rel=\"dns-prefetch\"/> <link href=\"\" id=\"\" media=\"\" rel=\"stylesheet\" type=\"text/css\"/> <style id=\"\" type=\"text/css\"> </style> <script src=\"\" type=\"text/javascript\"> </script> <link href=\"\" rel=\"alternate\" type=\"application/json+oembed\"/> <link href=\"\" rel=\"alternate\" type=\"text/xml+oembed\"/> <meta content=\"\" name=\"\"/> <link href=\"\" rel=\"icon\" sizes=\"\"/> <link href=\"\" rel=\"icon\" sizes=\"\"/> <link href=\"\" rel=\"apple-touch-icon-precomposed\"/> <meta content=\"\" name=\"\"/> </head> <body class=\"\"> <header class=\"\"> <div class=\"\"> <div class=\"\"> <div class=\"\"> <div class=\"\"> <div class=\"\"> <div class=\"\"> <div class=\"\"> <form action=\"\" class=\"\" method=\"\" role=\"search\"> <label> <span class=\"\"> </span> <input class=\"\" name=\"\" placeholder=\"\" type=\"search\" value=\"\"/> </label> <input class=\"\" type=\"submit\" value=\"\"/> </form> </div> </div> <div class=\"\"> <div class=\"\"> <ul class=\"\"> <li> <a href=\"\"> </a> </li> <li> <a href=\"\"> </a> </li> <li> <a href=\"\"> </a> </li> </ul> </div> </div> </div> </div> </div> </div> <div class=\"\"> <div class=\"\"> <h1 class=\"\"> <a href=\"\" rel=\"home\"> </a> </h1> <h5 class=\"\"> </h5> </div> </div> <div class=\"\"> <div class=\"\"> <nav class=\"\" id=\"\" role=\"navigation\"> <div class=\"\"> <ul class=\"\" id=\"\"> <li class=\"\" id=\"\"> <a aria-current=\"page\" href=\"\"> </a> </li> <li class=\"\" id=\"\"> <a href=\"\"> </a> <ul class=\"\"> <li class=\"\" id=\"\"> <a href=\"\"> </a> </li> <li class=\"\" id=\"\"> <a href=\"\"> </a> </li> <li class=\"\" id=\"\"> <a href=\"\"> </a> </li> <li class=\"\" id=\"\"> <a href=\"\"> </a> </li> <li class=\"\" id=\"\"> <a href=\"\"> </a> </li> <li class=\"\" id=\"\"> <a href=\"\"> </a> </li> </ul> </li> <li class=\"\" id=\"\"> <a href=\"\"> </a> <ul class=\"\"> <li class=\"\" id=\"\"> <a href=\"\"> </a> </li> <li class=\"\" id=\"\"> <a href=\"\"> </a> </li> <li class=\"\" id=\"\"> <a href=\"\"> </a> </li> <li class=\"\" id=\"\"> <a href=\"\"> </a> </li> <li class=\"\" id=\"\"> <a href=\"\"> </a> </li> <li class=\"\" id=\"\"> <a href=\"\"> </a> </li> </ul> </li> <li class=\"\" id=\"\"> <a href=\"\"> </a> <ul class=\"\"> <li class=\"\" id=\"\"> <a href=\"\"> </a> </li> <li class=\"\" id=\"\"> <a href=\"\"> </a> </li> <li class=\"\" id=\"\"> <a href=\"\"> </a> </li> <li class=\"\" id=\"\"> <a href=\"\"> </a> </li> <li class=\"\" id=\"\"> <a href=\"\"> </a> </li> <li class=\"\" id=\"\"> <a href=\"\"> </a> </li> </ul> </li> <li class=\"\" id=\"\"> <a href=\"\"> </a> <ul class=\"\"> <li class=\"\" id=\"\"> <a href=\"\"> </a> </li> <li class=\"\" id=\"\"> <a href=\"\"> </a> </li> <li class=\"\" id=\"\"> <a href=\"\"> </a> </li> <li class=\"\" id=\"\"> <a href=\"\"> </a> </li> <li class=\"\" id=\"\"> <a href=\"\"> </a> </li> <li class=\"\" id=\"\"> <a href=\"\"> </a> </li> <li class=\"\" id=\"\"> <a href=\"\"> </a> </li> <li class=\"\" id=\"\"> <a href=\"\"> </a> </li> <li class=\"\" id=\"\"> <a href=\"\"> </a> </li> </ul> </li> </ul> </div> </nav> </div> </div> </div> </header> <div class=\"\"> <div class=\"\"> <div class=\"\" style=\"\"> <div class=\"\"> <nav aria-label=\"\" class=\"\" itemprop=\"\" role=\"navigation\"> <ul class=\"\" itemscope=\"\" itemtype=\"\"> <meta content=\"\" name=\"\"/> <meta content=\"\" name=\"\"/> <li class=\"\" itemprop=\"\" itemscope=\"\" itemtype=\"\"> <span itemprop=\"\"> </span> <meta content=\"\" itemprop=\"\"/> </li> </ul> </nav> </div> <div class=\"\"> </div> </div> </div> <div class=\"\"> <div class=\"\"> <div class=\"\"> <div class=\"\"> <div class=\"\"> <div class=\"\"> <article class=\"\" id=\"\"> <div class=\"\"> <div class=\"\"> <img alt=\"\" class=\"\" height=\"827\" sizes=\"\" src=\"\" srcset=\"\" width=\"1240\"/> </div> <div class=\"\"> <div class=\"\"> <h2> </h2> </div> <div class=\"\"> <p> <a href=\"\" rel=\"noopener noreferrer\" target=\"\"> <strong> </strong> </a> <strong> </strong> <strong> </strong> </p> <div class=\"\" data-=\"\"> <div class=\"\"> <div class=\"\"> <b class=\"\"> </b> <span class=\"\"> <a class=\"\" data-=\"\" href=\"\"> </a> </span> </div> <div class=\"\"> <div class=\"\"> <div class=\"\"> <a class=\"\" href=\"\"> <span class=\"\"> </span> <span class=\"\"> </span> </a> </div> <div class=\"\"> <a class=\"\" href=\"\"> <span class=\"\"> </span> <span class=\"\"> </span> </a> <div class=\"\"> <div class=\"\"> <a class=\"\" href=\"\"> <span class=\"\"> </span> <span class=\"\"> </span> </a> </div> <div class=\"\"> <a class=\"\" href=\"\"> <span class=\"\"> </span> <span class=\"\"> </span> </a> </div> </div> </div> <div class=\"\"> <a class=\"\" href=\"\"> <span class=\"\"> </span> <span class=\"\"> </span> </a> </div> <div class=\"\"> <a class=\"\" href=\"\"> <span class=\"\"> </span> <span class=\"\"> </span> </a> </div> <div class=\"\"> <a class=\"\" href=\"\"> <span class=\"\"> </span> <span class=\"\"> </span> </a> </div> <div class=\"\"> <a class=\"\" href=\"\"> <span class=\"\"> </span> <span class=\"\"> </span> </a> </div> <div class=\"\"> <a class=\"\" href=\"\"> <span class=\"\"> </span> <span class=\"\"> </span> </a> </div> <div class=\"\"> <a class=\"\" href=\"\"> <span class=\"\"> </span> <span class=\"\"> </span> </a> </div> </div> </div> </div> </div> <h2> <span id=\"\"> </span> </h2> <p> </p> <ul> <li> <strong> </strong> </li> <li> </li> <li> </li> <li> </li> <li> </li> </ul> <h2> <span id=\"\"> </span> </h2> <p> </p> <h3> <span id=\"\"> </span> </h3> <p> </p> <ul> <li> </li> <li> </li> <li> </li> <li> </li> <li> </li> <li> </li> <li> </li> </ul> <h3> <span id=\"\"> </span> </h3> <p> </p> <ul> <li> </li> <li> </li> <li> </li> <li> </li> </ul> <h2> <span id=\"\"> </span> </h2> <p> </p> <ul> <li> </li> <li> </li> <li> </li> <li> </li> <li> </li> <li> </li> <li> </li> </ul> <h2> <span id=\"\"> </span> </h2> <p> </p> <ul> <li> </li> <li> </li> <li> </li> </ul> <h2> <span id=\"\"> </span> </h2> <p> </p> <ul> <li> </li> <li> </li> <li> </li> <li> </li> <li> </li> </ul> <h2> <span id=\"\"> </span> </h2> <p> </p> <ul> <li> </li> <li> </li> <li> </li> </ul> <h2> <span id=\"\"> </span> </h2> <p> </p> <h2> <span id=\"\"> </span> </h2> <p> </p> </div> </div> </div> </article> </div> </div> <div class=\"\"> <aside class=\"\"> <div class=\"\"> <section class=\"\" id=\"\"> <div class=\"\"> <div class=\"\"> <h2> </h2> </div> <div class=\"\"> <div class=\"\"> <div class=\"\"> <div class=\"\"> <div class=\"\"> <img alt=\"\" class=\"\" height=\"421\" sizes=\"\" src=\"\" srcset=\"\" width=\"748\"/> <div class=\"\"> </div> <div class=\"\"> <div class=\"\"> <h5> <a href=\"\"> </a> </h5> </div> </div> </div> <div class=\"\"> <img alt=\"\" class=\"\" height=\"421\" sizes=\"\" src=\"\" srcset=\"\" width=\"748\"/> <div class=\"\"> </div> <div class=\"\"> <div class=\"\"> <h5> <a href=\"\"> </a> </h5> </div> </div> </div> <div class=\"\"> <img alt=\"\" class=\"\" height=\"421\" sizes=\"\" src=\"\" srcset=\"\" width=\"748\"/> <div class=\"\"> </div> <div class=\"\"> <div class=\"\"> <h5> <a href=\"\"> </a> </h5> </div> </div> </div> <div class=\"\"> <img alt=\"\" class=\"\" height=\"421\" sizes=\"\" src=\"\" srcset=\"\" width=\"748\"/> <div class=\"\"> </div> <div class=\"\"> <div class=\"\"> <h5> <a href=\"\"> </a> </h5> </div> </div> </div> <div class=\"\"> <img alt=\"\" class=\"\" height=\"421\" sizes=\"\" src=\"\" srcset=\"\" width=\"748\"/> <div class=\"\"> </div> <div class=\"\"> <div class=\"\"> <h5> <a href=\"\"> </a> </h5> </div> </div> </div> </div> <div class=\"\"> </div> </div> </div> </div> </div> </section> <section class=\"\" id=\"\"> <div class=\"\"> <div class=\"\"> <h2> </h2> </div> <ul> <li class=\"\"> <a href=\"\" title=\"\"> </a> </li> <li class=\"\"> <a href=\"\" title=\"\"> </a> </li> <li class=\"\"> <a href=\"\" title=\"\"> </a> </li> <li class=\"\"> <a href=\"\" title=\"\"> </a> </li> </ul> </div> </section> </div> </aside> </div> </div> </div> </div> </div> </div> <footer class=\"\"> <div class=\"\"> </div> <div class=\"\"> <div class=\"\"> <div class=\"\"> <div class=\"\"> <div class=\"\"> <div class=\"\"> <p> </p> </div> </div> <div class=\"\"> </div> </div> </div> </div> </div> </footer> <script type=\"text/javascript\">'''\n",
        "\n",
        "# testCont = '''</script> <style id=\"\" type=\"text/css\"> </style> <script type=\"text/javascript\"> </script> <script type=\"text/javascript\"> </script> <script defer=\"\" src=\"\"> </script> </body> </html>'''\n",
        "'''\n",
        "get_perplexity(sess,\n",
        "               run_name=loaded_run_name,\n",
        "               checkpoint_dir='checkpoint',\n",
        "               model_name=None,\n",
        "               model_dir='models',\n",
        "               prefix=testPref,\n",
        "               continuation=testCont)\n",
        "'''"
      ],
      "execution_count": 20,
      "outputs": [
        {
          "output_type": "execute_result",
          "data": {
            "application/vnd.google.colaboratory.intrinsic+json": {
              "type": "string"
            },
            "text/plain": [
              "\"\\nget_perplexity(sess,\\n               run_name=loaded_run_name,\\n               checkpoint_dir='checkpoint',\\n               model_name=None,\\n               model_dir='models',\\n               prefix=testPref,\\n               continuation=testCont)\\n\""
            ]
          },
          "metadata": {
            "tags": []
          },
          "execution_count": 20
        }
      ]
    }
  ]
}