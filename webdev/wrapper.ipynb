{
 "cells": [
  {
   "cell_type": "code",
   "execution_count": 2,
   "metadata": {},
   "outputs": [
    {
     "name": "stdout",
     "output_type": "stream",
     "text": [
      "Collecting gpt-2-simple\n",
      "  Using cached gpt_2_simple-0.7.2.tar.gz (25 kB)\n",
      "Requirement already satisfied: regex in /Users/andyliu/anaconda3/lib/python3.6/site-packages (from gpt-2-simple) (2020.6.8)\n",
      "Requirement already satisfied: requests in /Users/andyliu/anaconda3/lib/python3.6/site-packages (from gpt-2-simple) (2.24.0)\n",
      "Requirement already satisfied: tqdm in /Users/andyliu/anaconda3/lib/python3.6/site-packages (from gpt-2-simple) (4.47.0)\n",
      "Requirement already satisfied: numpy in /Users/andyliu/anaconda3/lib/python3.6/site-packages (from gpt-2-simple) (1.17.0)\n",
      "Collecting toposort\n",
      "  Using cached toposort-1.6-py2.py3-none-any.whl (9.5 kB)\n",
      "Requirement already satisfied: urllib3!=1.25.0,!=1.25.1,<1.26,>=1.21.1 in /Users/andyliu/anaconda3/lib/python3.6/site-packages (from requests->gpt-2-simple) (1.25.9)\n",
      "Requirement already satisfied: chardet<4,>=3.0.2 in /Users/andyliu/anaconda3/lib/python3.6/site-packages (from requests->gpt-2-simple) (3.0.4)\n",
      "Requirement already satisfied: idna<3,>=2.5 in /Users/andyliu/anaconda3/lib/python3.6/site-packages (from requests->gpt-2-simple) (2.10)\n",
      "Requirement already satisfied: certifi>=2017.4.17 in /Users/andyliu/anaconda3/lib/python3.6/site-packages (from requests->gpt-2-simple) (2020.6.20)\n",
      "Building wheels for collected packages: gpt-2-simple\n",
      "  Building wheel for gpt-2-simple (setup.py) ... \u001b[?25ldone\n",
      "\u001b[?25h  Created wheel for gpt-2-simple: filename=gpt_2_simple-0.7.2-py3-none-any.whl size=23619 sha256=f3224a3a5453ba5c2de80b26f376cfe83deeac7d8ff922ecdac009618765c223\n",
      "  Stored in directory: /Users/andyliu/Library/Caches/pip/wheels/0d/e0/23/15c1d64e3f5afe7f63ae1ecb5d8bfe7aec1e7777e981ecdb90\n",
      "Successfully built gpt-2-simple\n",
      "Installing collected packages: toposort, gpt-2-simple\n",
      "Successfully installed gpt-2-simple-0.7.2 toposort-1.6\n"
     ]
    }
   ],
   "source": [
    "!pip install gpt-2-simple"
   ]
  },
  {
   "cell_type": "code",
   "execution_count": 6,
   "metadata": {},
   "outputs": [],
   "source": [
    "import tensorflow.compat.v1 as tf\n",
    "import gpt_2_simple as gpt2\n",
    "from datetime import datetime\n",
    "\n",
    "from gpt_2_simple.src import model, sample, encoder, memory_saving_gradients\n",
    "import os\n",
    "import json\n",
    "import numpy as np\n",
    "\n",
    "from bs4 import BeautifulSoup"
   ]
  },
  {
   "cell_type": "code",
   "execution_count": 14,
   "metadata": {},
   "outputs": [],
   "source": [
    "modelpath = \"/Users/andyliu/Downloads/checkpoint/355_10mb\""
   ]
  },
  {
   "cell_type": "code",
   "execution_count": 15,
   "metadata": {},
   "outputs": [
    {
     "name": "stdout",
     "output_type": "stream",
     "text": [
      "Loading pretrained model /Users/andyliu/Downloads/checkpoint/355_10mb/model-1000\n",
      "WARNING:tensorflow:From /Users/andyliu/anaconda3/lib/python3.6/site-packages/tensorflow/python/training/saver.py:1276: checkpoint_exists (from tensorflow.python.training.checkpoint_management) is deprecated and will be removed in a future version.\n",
      "Instructions for updating:\n",
      "Use standard file APIs to check for files with this prefix.\n",
      "INFO:tensorflow:Restoring parameters from /Users/andyliu/Downloads/checkpoint/355_10mb/model-1000\n"
     ]
    }
   ],
   "source": [
    "sess = gpt2.start_tf_sess()\n",
    "gpt2.load_gpt2(sess, model_name = modelpath)"
   ]
  },
  {
   "cell_type": "code",
   "execution_count": 35,
   "metadata": {},
   "outputs": [],
   "source": [
    "def complete(pre):\n",
    "    output = gpt2.generate(sess, include_prefix=True, prefix=pre, length=100, model_name = modelpath, return_as_list=True)[0]\n",
    "    html = pre + output\n",
    "    #you would add in classes here\n",
    "    soup = BeautifulSoup(html)\n",
    "    processed = soup.prettify()\n",
    "    processed.replace(' ', '')\n",
    "    return(processed.replace('\\n', ''))"
   ]
  },
  {
   "cell_type": "code",
   "execution_count": 33,
   "metadata": {},
   "outputs": [],
   "source": [
    "text = \"<html><head><title>Yeet</title></head><body><div class='yes'>\""
   ]
  },
  {
   "cell_type": "code",
   "execution_count": 36,
   "metadata": {},
   "outputs": [
    {
     "data": {
      "text/plain": [
       "'<html> <head>  <title>   Yeet  </title> </head> <body>  <div class=\"yes\">   <title>    Yeet   </title>   <div class=\"yes\">    <h1>     <div class=\"\">      <p>      </p>     </div>    </h1>   </div>  </div> </body></html>'"
      ]
     },
     "execution_count": 36,
     "metadata": {},
     "output_type": "execute_result"
    }
   ],
   "source": [
    "complete(text)"
   ]
  },
  {
   "cell_type": "code",
   "execution_count": null,
   "metadata": {},
   "outputs": [],
   "source": []
  }
 ],
 "metadata": {
  "kernelspec": {
   "display_name": "Python 3",
   "language": "python",
   "name": "python3"
  },
  "language_info": {
   "codemirror_mode": {
    "name": "ipython",
    "version": 3
   },
   "file_extension": ".py",
   "mimetype": "text/x-python",
   "name": "python",
   "nbconvert_exporter": "python",
   "pygments_lexer": "ipython3",
   "version": "3.6.10"
  }
 },
 "nbformat": 4,
 "nbformat_minor": 4
}
